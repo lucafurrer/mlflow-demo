{
 "metadata": {
  "language_info": {
   "codemirror_mode": {
    "name": "ipython",
    "version": 3
   },
   "file_extension": ".py",
   "mimetype": "text/x-python",
   "name": "python",
   "nbconvert_exporter": "python",
   "pygments_lexer": "ipython3",
   "version": "3.7.9-final"
  },
  "orig_nbformat": 2,
  "kernelspec": {
   "name": "python3",
   "display_name": "Python 3.7.9 64-bit",
   "metadata": {
    "interpreter": {
     "hash": "b3ba2566441a7c06988d0923437866b63cedc61552a5af99d1f4fb67d367b25f"
    }
   }
  }
 },
 "nbformat": 4,
 "nbformat_minor": 2,
 "cells": [
  {
   "cell_type": "code",
   "execution_count": null,
   "metadata": {},
   "outputs": [],
   "source": [
    "import mlflow\n",
    "import seaborn as sns\n",
    "import matplotlib.pyplot as plt\n",
    "import numpy as np\n",
    "import os"
   ]
  },
  {
   "cell_type": "code",
   "execution_count": null,
   "metadata": {},
   "outputs": [],
   "source": [
    "os.environ['AWS_ACCESS_KEY_ID'] = 'minio'\n",
    "os.environ['AWS_SECRET_ACCESS_KEY'] = 'password'\n",
    "os.environ['AWS_DEFAULT_REGION'] = 'us-east-1'\n",
    "endpoint = 'http://localhost:9000'\n",
    "os.environ['MLFLOW_S3_ENDPOINT_URL'] = endpoint"
   ]
  },
  {
   "cell_type": "code",
   "execution_count": null,
   "metadata": {},
   "outputs": [],
   "source": [
    "# check if \n",
    "import boto3\n",
    "\n",
    "from botocore.client import Config\n",
    "\n",
    "bucket_name = 'mlflow' \n",
    "s3 = boto3.resource('s3', endpoint_url=endpoint)\n",
    "if s3.Bucket(bucket_name) not in s3.buckets.all():\n",
    "    s3.create_bucket(Bucket=bucket_name)"
   ]
  },
  {
   "cell_type": "code",
   "execution_count": null,
   "metadata": {},
   "outputs": [],
   "source": [
    "mlflow.set_tracking_uri('http://localhost:5000')\n",
    "\n",
    "mlflow.set_experiment('my-experiment')\n",
    "\n",
    "with mlflow.start_run():\n",
    "    # log a parameter\n",
    "    mlflow.log_param('my-param', 16)\n",
    "    mlflow.set_tag('tag', 'mytag')\n",
    "    # log several metrics\n",
    "    for i in range(0,5):\n",
    "        mlflow.log_metric('metric', i*2, step=i)\n",
    "        mlflow.log_metric('metric_squared', i*i, step=i)\n",
    "\n",
    "    # log a figure\n",
    "    fig, ax = plt.subplots()\n",
    "    x=np.array(range(-10,11))\n",
    "    subfig = sns.lineplot(x=x,y=x*x) \n",
    "    mlflow.log_figure(fig, \"myfigure.png\")\n",
    "\n"
   ]
  },
  {
   "cell_type": "code",
   "execution_count": null,
   "metadata": {},
   "outputs": [],
   "source": [
    "import pandas as pd\n",
    "from sklearn import datasets\n",
    "from sklearn.ensemble import RandomForestClassifier\n",
    "import mlflow.sklearn\n",
    "from mlflow.models.signature import infer_signature"
   ]
  },
  {
   "cell_type": "code",
   "execution_count": 15,
   "metadata": {
    "tags": []
   },
   "outputs": [],
   "source": [
    "experiment_id = mlflow.set_experiment('lfr-demo-model')\n",
    "with mlflow.start_run():\n",
    "    iris = datasets.load_iris()\n",
    "    iris_train = pd.DataFrame(iris.data, columns=iris.feature_names)\n",
    "    mlflow.sklearn.autolog() \n",
    "    clf = RandomForestClassifier(max_depth=7, random_state=0)\n",
    "    clf.fit(iris_train, iris.target)\n",
    "    signature = infer_signature(iris_train, clf.predict(iris_train))\n",
    "    mlflow.sklearn.log_model(clf, \"iris_rf\", signature=signature)"
   ]
  },
  {
   "cell_type": "code",
   "execution_count": null,
   "metadata": {},
   "outputs": [],
   "source": []
  }
 ]
}