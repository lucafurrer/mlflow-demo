{
 "metadata": {
  "language_info": {
   "codemirror_mode": {
    "name": "ipython",
    "version": 3
   },
   "file_extension": ".py",
   "mimetype": "text/x-python",
   "name": "python",
   "nbconvert_exporter": "python",
   "pygments_lexer": "ipython3",
   "version": "3.8.6-final"
  },
  "orig_nbformat": 2,
  "kernelspec": {
   "name": "python37564bit53a7ef059f3e4bd5b7d1c194e15c59f5",
   "display_name": "Python 3.7.5 64-bit",
   "language": "python"
  }
 },
 "nbformat": 4,
 "nbformat_minor": 2,
 "cells": [
  {
   "cell_type": "code",
   "execution_count": null,
   "metadata": {},
   "outputs": [],
   "source": [
    "import mlflow\n",
    "import seaborn as sns\n",
    "import matplotlib.pyplot as plt\n",
    "import numpy as np\n",
    "import os"
   ]
  },
  {
   "cell_type": "code",
   "execution_count": null,
   "metadata": {},
   "outputs": [],
   "source": [
    "os.environ['AWS_ACCESS_KEY_ID'] = 'minio'\n",
    "os.environ['AWS_SECRET_ACCESS_KEY'] = 'password'\n",
    "os.environ['AWS_DEFAULT_REGION'] = 'us-east-1'\n",
    "os.environ['MLFLOW_S3_ENDPOINT_URL']='http://localhost:9000'\n",
    "\n",
    "i=8"
   ]
  },
  {
   "cell_type": "code",
   "execution_count": null,
   "metadata": {},
   "outputs": [],
   "source": [
    "mlflow.set_tracking_uri('http://localhost:5000')\n",
    "i=i+1\n",
    "mlflow.set_experiment('my-experiment448' + str(i))\n",
    "\n",
    "mlflow.start_run()\n",
    "try:\n",
    "    # log a parameter\n",
    "    mlflow.log_param('my-param', 14)\n",
    "    mlflow.set_tag('tag', 'mytag')\n",
    "    # log several metrics\n",
    "    for i in range(0,5):\n",
    "        mlflow.log_metric('metric', i, step=i)\n",
    "        mlflow.log_metric('metric_squared', i*i, step=i)\n",
    "\n",
    "    # log a figure\n",
    "    fig, ax = plt.subplots()\n",
    "    x=np.array(range(-10,11))\n",
    "    subfig = sns.lineplot(x=x,y=x*x) \n",
    "    mlflow.log_figure(fig, \"myfigure.png\")\n",
    " \n",
    "     \n",
    "finally:\n",
    "    mlflow.end_run()\n"
   ]
  },
  {
   "cell_type": "code",
   "execution_count": null,
   "metadata": {},
   "outputs": [],
   "source": [
    "import pandas as pd\n",
    "from sklearn import datasets\n",
    "from sklearn.ensemble import RandomForestClassifier\n",
    "import mlflow.sklearn\n",
    "from mlflow.models.signature import infer_signature"
   ]
  },
  {
   "cell_type": "code",
   "execution_count": null,
   "metadata": {
    "tags": [
     "outputPrepend"
    ]
   },
   "outputs": [],
   "source": [
    "experiment_id = mlflow.set_experiment('lfr-demo-model5')\n",
    "mlflow.start_run()\n",
    "try:\n",
    "    iris = datasets.load_iris()\n",
    "    iris_train = pd.DataFrame(iris.data, columns=iris.feature_names)\n",
    "    mlflow.sklearn.autolog() \n",
    "    clf = RandomForestClassifier(max_depth=7, random_state=0)\n",
    "    clf.fit(iris_train, iris.target)\n",
    "    signature = infer_signature(iris_train, clf.predict(iris_train))\n",
    "    mlflow.sklearn.log_model(clf, \"iris_rf\", signature=signature)\n",
    "finally:\n",
    "    mlflow.end_run()\n"
   ]
  }
 ]
}