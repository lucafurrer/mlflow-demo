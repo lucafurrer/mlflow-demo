{
 "metadata": {
  "language_info": {
   "codemirror_mode": {
    "name": "ipython",
    "version": 3
   },
   "file_extension": ".py",
   "mimetype": "text/x-python",
   "name": "python",
   "nbconvert_exporter": "python",
   "pygments_lexer": "ipython3",
   "version": "3.7.9"
  },
  "orig_nbformat": 2,
  "kernelspec": {
   "name": "python3",
   "display_name": "Python 3.7.9 64-bit ('base': conda)"
  },
  "interpreter": {
   "hash": "b3ba2566441a7c06988d0923437866b63cedc61552a5af99d1f4fb67d367b25f"
  }
 },
 "nbformat": 4,
 "nbformat_minor": 2,
 "cells": [
  {
   "cell_type": "markdown",
   "source": [
    "# MLFlow Demo"
   ],
   "metadata": {}
  },
  {
   "cell_type": "code",
   "execution_count": 13,
   "source": [
    "import mlflow\r\n",
    "import seaborn as sns\r\n",
    "import matplotlib.pyplot as plt\r\n",
    "import numpy as np\r\n",
    "import os"
   ],
   "outputs": [],
   "metadata": {}
  },
  {
   "cell_type": "code",
   "execution_count": 14,
   "source": [
    "os.environ['AWS_ACCESS_KEY_ID'] = 'minio'\r\n",
    "os.environ['AWS_SECRET_ACCESS_KEY'] = 'password'\r\n",
    "os.environ['AWS_DEFAULT_REGION'] = 'us-east-1'\r\n",
    "endpoint = 'http://localhost:9000'\r\n",
    "os.environ['MLFLOW_S3_ENDPOINT_URL'] = endpoint"
   ],
   "outputs": [],
   "metadata": {}
  },
  {
   "cell_type": "code",
   "execution_count": 20,
   "source": [
    "# check if \r\n",
    "import boto3\r\n",
    "\r\n",
    "from botocore.client import Config\r\n",
    "\r\n",
    "bucket_name = 'mlflow' \r\n",
    "s3 = boto3.resource('s3', endpoint_url=endpoint)\r\n",
    "if s3.Bucket(bucket_name) not in s3.buckets.all():\r\n",
    "    s3.create_bucket(Bucket=bucket_name)"
   ],
   "outputs": [],
   "metadata": {}
  },
  {
   "cell_type": "markdown",
   "source": [
    "## Simple log with image"
   ],
   "metadata": {}
  },
  {
   "cell_type": "code",
   "execution_count": 21,
   "source": [
    "mlflow.set_tracking_uri('http://localhost:5000')\r\n",
    "\r\n",
    "mlflow.set_experiment('my-experiment')\r\n",
    "\r\n",
    "with mlflow.start_run():\r\n",
    "    # log a parameter\r\n",
    "    mlflow.log_param('my-param', 16)\r\n",
    "    mlflow.set_tag('tag', 'mytag')\r\n",
    "    # log several metrics\r\n",
    "    for i in range(0,5):\r\n",
    "        mlflow.log_metric('metric', i*2, step=i)\r\n",
    "        mlflow.log_metric('metric_squared', i*i, step=i)\r\n",
    "\r\n",
    "    # log a figure\r\n",
    "    fig, ax = plt.subplots()\r\n",
    "    x=np.array(range(-10,11))\r\n",
    "    subfig = sns.lineplot(x=x,y=x*x) \r\n",
    "    mlflow.log_figure(fig, \"myfigure.png\")\r\n",
    "\r\n"
   ],
   "outputs": [
    {
     "output_type": "display_data",
     "data": {
      "text/plain": [
       "<Figure size 432x288 with 1 Axes>"
      ],
      "image/png": "[encoded data removed]"
     },
     "metadata": {
      "needs_background": "light"
     }
    }
   ],
   "metadata": {}
  },
  {
   "cell_type": "markdown",
   "source": [
    "## Log Scikit learn model\r\n",
    "\r\n",
    "- Autolog scikit learn\r\n",
    "- Log models\r\n"
   ],
   "metadata": {}
  },
  {
   "cell_type": "code",
   "execution_count": 22,
   "source": [
    "import pandas as pd\r\n",
    "from sklearn import datasets\r\n",
    "from sklearn.ensemble import RandomForestClassifier\r\n",
    "import mlflow.sklearn\r\n",
    "from mlflow.models.signature import infer_signature"
   ],
   "outputs": [],
   "metadata": {}
  },
  {
   "cell_type": "code",
   "execution_count": 23,
   "source": [
    "experiment_id = mlflow.set_experiment('lfr-demo-model')\r\n",
    "with mlflow.start_run():\r\n",
    "    iris = datasets.load_iris()\r\n",
    "    iris_train = pd.DataFrame(iris.data, columns=iris.feature_names)\r\n",
    "    mlflow.sklearn.autolog() \r\n",
    "    clf = RandomForestClassifier(max_depth=7, random_state=0)\r\n",
    "    clf.fit(iris_train, iris.target)\r\n",
    "    signature = infer_signature(iris_train, clf.predict(iris_train))\r\n",
    "    mlflow.sklearn.log_model(clf, \"iris_rf\", signature=signature)"
   ],
   "outputs": [
    {
     "output_type": "stream",
     "name": "stdout",
     "text": [
      "INFO: 'lfr-demo-model' does not exist. Creating a new experiment\n"
     ]
    }
   ],
   "metadata": {
    "tags": []
   }
  },
  {
   "cell_type": "markdown",
   "source": [
    "## Nested runs"
   ],
   "metadata": {}
  },
  {
   "cell_type": "code",
   "execution_count": 27,
   "source": [
    "experiment_id = mlflow.set_experiment('nested')\r\n",
    "with mlflow.start_run(run_name='Parent') as parent_run:\r\n",
    "    results = []\r\n",
    "    for i in range(4):\r\n",
    "        with mlflow.start_run(run_name=f\"Child {i}\", nested=True):\r\n",
    "            mlflow.log_param(\"Factor\", i)\r\n",
    "            result = i*i\r\n",
    "            mlflow.log_metric(\"Result\", result)\r\n",
    "            results.append(result)\r\n",
    "        mlflow.log_metric(\"Result\", result, i)\r\n",
    "        \r\n",
    "    mlflow.log_metric(\"max\", max(results))"
   ],
   "outputs": [],
   "metadata": {}
  },
  {
   "cell_type": "code",
   "execution_count": null,
   "source": [],
   "outputs": [],
   "metadata": {}
  }
 ]
}