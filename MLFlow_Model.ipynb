{
    "cells": [
        {
            "cell_type": "code",
            "execution_count": null,
            "source": [
                "import mlflow\r\n",
                "import pandas as pd\r\n",
                "from sklearn import datasets\r\n",
                "from sklearn.ensemble import RandomForestClassifier\r\n",
                "import mlflow.sklearn\r\n",
                "from mlflow.models.signature import infer_signature"
            ],
            "outputs": [],
            "metadata": {}
        },
        {
            "cell_type": "code",
            "execution_count": null,
            "source": [
                "mlflow.set_tracking_uri('http://localhost:5000')\r\n",
                "\r\n",
                "os.environ['AWS_ACCESS_KEY_ID'] = 'minio'\r\n",
                "os.environ['AWS_SECRET_ACCESS_KEY'] = 'password'\r\n",
                "os.environ['AWS_DEFAULT_REGION'] = 'us-east-1'\r\n",
                "endpoint = 'http://localhost:9000'\r\n",
                "os.environ['MLFLOW_S3_ENDPOINT_URL'] = endpoint"
            ],
            "outputs": [],
            "metadata": {}
        },
        {
            "cell_type": "code",
            "execution_count": null,
            "source": [
                "model_name = \"my-registered-model\"\r\n",
                "\r\n",
                "iris = datasets.load_iris()\r\n",
                "iris_df = pd.DataFrame(iris.data, columns=iris.feature_names) \r\n",
                "\r\n",
                "iris_train = iris_df.iloc[:-1]\r\n",
                "iris_test = iris_df.iloc[-1:]\r\n",
                "\r\n",
                "experiment_id = mlflow.set_experiment('model-demo')\r\n",
                "with mlflow.start_run():\r\n",
                "    clf = RandomForestClassifier(max_depth=7, random_state=0)\r\n",
                "    clf.fit(iris_train, iris.target[:-1])\r\n",
                "    signature = infer_signature(iris_train, clf.predict(iris_train))\r\n",
                "    mlflow.sklearn.log_model(clf, \"iris_rf\", signature=signature, registered_model_name=model_name)"
            ],
            "outputs": [],
            "metadata": {}
        },
        {
            "cell_type": "code",
            "execution_count": null,
            "source": [
                "import mlflow.pyfunc\r\n",
                "\r\n",
                "model_version = 1\r\n",
                "\r\n",
                "model = mlflow.pyfunc.load_model(\r\n",
                "    model_uri=f\"models:/{model_name}/{model_version}\"\r\n",
                ")\r\n",
                "\r\n",
                "result = model.predict(iris_test)\r\n",
                "\r\n",
                "print(result)"
            ],
            "outputs": [],
            "metadata": {}
        },
        {
            "cell_type": "code",
            "execution_count": null,
            "source": [
                "from mlflow.tracking import MlflowClient\r\n",
                "\r\n",
                "client = MlflowClient()\r\n",
                "\r\n",
                "stage = 'Staging'\r\n",
                "\r\n",
                "client.transition_model_version_stage(\r\n",
                "    name=model_name,\r\n",
                "    version=model_version,\r\n",
                "    stage=stage\r\n",
                ")\r\n",
                "\r\n",
                "model = mlflow.pyfunc.load_model(\r\n",
                "    model_uri=f\"models:/{model_name}/{stage}\"\r\n",
                ")\r\n",
                "\r\n",
                "result = model.predict(iris_test)\r\n",
                "\r\n",
                "print(result)"
            ],
            "outputs": [],
            "metadata": {}
        },
        {
            "cell_type": "code",
            "execution_count": null,
            "source": [
                "from pprint import pprint\r\n",
                "\r\n",
                "for rm in client.list_registered_models():\r\n",
                "    pprint(dict(rm), indent=4)"
            ],
            "outputs": [],
            "metadata": {}
        },
        {
            "cell_type": "code",
            "execution_count": null,
            "source": [
                "client.delete_registered_model(name=model_name)"
            ],
            "outputs": [],
            "metadata": {}
        },
        {
            "cell_type": "code",
            "execution_count": null,
            "source": [
                "for rm in client.list_registered_models():\r\n",
                "    pprint(dict(rm), indent=4)"
            ],
            "outputs": [],
            "metadata": {}
        }
    ],
    "metadata": {
        "orig_nbformat": 4,
        "language_info": {
            "name": "python",
            "version": "3.7.9",
            "mimetype": "text/x-python",
            "codemirror_mode": {
                "name": "ipython",
                "version": 3
            },
            "pygments_lexer": "ipython3",
            "nbconvert_exporter": "python",
            "file_extension": ".py"
        },
        "kernelspec": {
            "name": "python3",
            "display_name": "Python 3.7.9 64-bit ('base': conda)"
        },
        "interpreter": {
            "hash": "b3ba2566441a7c06988d0923437866b63cedc61552a5af99d1f4fb67d367b25f"
        }
    },
    "nbformat": 4,
    "nbformat_minor": 2
}