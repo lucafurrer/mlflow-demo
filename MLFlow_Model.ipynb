{
    "cells": [
        {
            "cell_type": "code",
            "execution_count": 2,
            "metadata": {},
            "outputs": [],
            "source": [
                "import mlflow\n",
                "import pandas as pd\n",
                "from sklearn import datasets\n",
                "from sklearn.ensemble import RandomForestClassifier\n",
                "import mlflow.sklearn\n",
                "from mlflow.models.signature import infer_signature\n",
                "import os"
            ]
        },
        {
            "cell_type": "code",
            "execution_count": null,
            "metadata": {},
            "outputs": [],
            "source": []
        },
        {
            "cell_type": "code",
            "execution_count": 3,
            "metadata": {},
            "outputs": [],
            "source": [
                "mlflow.set_tracking_uri('http://localhost:5000')\n",
                "\n",
                "os.environ['AWS_ACCESS_KEY_ID'] = 'minio_user'\n",
                "os.environ['AWS_SECRET_ACCESS_KEY'] = 'minio_password'\n",
                "os.environ['AWS_DEFAULT_REGION'] = 'us-east-1'\n",
                "endpoint = 'http://localhost:9000'\n",
                "os.environ['MLFLOW_S3_ENDPOINT_URL'] = endpoint"
            ]
        },
        {
            "cell_type": "code",
            "execution_count": 4,
            "metadata": {},
            "outputs": [
                {
                    "name": "stderr",
                    "output_type": "stream",
                    "text": [
                        "Registered model 'my-registered-model' already exists. Creating a new version of this model...\n",
                        "2025/02/20 22:55:59 INFO mlflow.store.model_registry.abstract_store: Waiting up to 300 seconds for model version to finish creation. Model name: my-registered-model, version 2\n"
                    ]
                },
                {
                    "name": "stdout",
                    "output_type": "stream",
                    "text": [
                        "🏃 View run indecisive-ant-386 at: http://localhost:5000/#/experiments/1/runs/bc3837f82a78459cb19ddc12234e487f\n",
                        "🧪 View experiment at: http://localhost:5000/#/experiments/1\n"
                    ]
                },
                {
                    "name": "stderr",
                    "output_type": "stream",
                    "text": [
                        "Created version '2' of model 'my-registered-model'.\n"
                    ]
                }
            ],
            "source": [
                "model_name = \"my-registered-model\"\n",
                "\n",
                "iris = datasets.load_iris()\n",
                "iris_df = pd.DataFrame(iris.data, columns=iris.feature_names) \n",
                "\n",
                "iris_train = iris_df.iloc[:-1]\n",
                "iris_test = iris_df.iloc[-1:]\n",
                "\n",
                "experiment_id = mlflow.set_experiment('model-demo')\n",
                "with mlflow.start_run():\n",
                "    clf = RandomForestClassifier(max_depth=7, random_state=0)\n",
                "    clf.fit(iris_train, iris.target[:-1])\n",
                "    signature = infer_signature(iris_train, clf.predict(iris_train))\n",
                "    mlflow.sklearn.log_model(clf, \"iris_rf\", signature=signature, registered_model_name=model_name)"
            ]
        },
        {
            "cell_type": "code",
            "execution_count": 5,
            "metadata": {},
            "outputs": [
                {
                    "data": {
                        "text/plain": [
                            "inputs: \n",
                            "  ['sepal length (cm)': double (required), 'sepal width (cm)': double (required), 'petal length (cm)': double (required), 'petal width (cm)': double (required)]\n",
                            "outputs: \n",
                            "  [Tensor('int64', (-1,))]\n",
                            "params: \n",
                            "  None"
                        ]
                    },
                    "execution_count": 5,
                    "metadata": {},
                    "output_type": "execute_result"
                }
            ],
            "source": [
                "signature"
            ]
        },
        {
            "cell_type": "code",
            "execution_count": 6,
            "metadata": {},
            "outputs": [
                {
                    "name": "stdout",
                    "output_type": "stream",
                    "text": [
                        "[2]\n"
                    ]
                }
            ],
            "source": [
                "import mlflow.pyfunc\n",
                "\n",
                "model_version = 1\n",
                "\n",
                "model = mlflow.pyfunc.load_model(\n",
                "    model_uri=f\"models:/{model_name}/{model_version}\"\n",
                ")\n",
                "\n",
                "result = model.predict(iris_test)\n",
                "\n",
                "print(result)"
            ]
        },
        {
            "cell_type": "code",
            "execution_count": 7,
            "metadata": {},
            "outputs": [
                {
                    "name": "stdout",
                    "output_type": "stream",
                    "text": [
                        "[2]\n"
                    ]
                },
                {
                    "name": "stderr",
                    "output_type": "stream",
                    "text": [
                        "/tmp/ipykernel_122687/2333998311.py:7: FutureWarning: ``mlflow.tracking.client.MlflowClient.transition_model_version_stage`` is deprecated since 2.9.0. Model registry stages will be removed in a future major release. To learn more about the deprecation of model registry stages, see our migration guide here: https://mlflow.org/docs/latest/model-registry.html#migrating-from-stages\n",
                        "  client.transition_model_version_stage(\n",
                        "/home/luca/source/Python/mlflow-demo/.venv/lib/python3.12/site-packages/mlflow/store/artifact/utils/models.py:31: FutureWarning: ``mlflow.tracking.client.MlflowClient.get_latest_versions`` is deprecated since 2.9.0. Model registry stages will be removed in a future major release. To learn more about the deprecation of model registry stages, see our migration guide here: https://mlflow.org/docs/latest/model-registry.html#migrating-from-stages\n",
                        "  latest = client.get_latest_versions(name, None if stage is None else [stage])\n"
                    ]
                }
            ],
            "source": [
                "from mlflow.tracking import MlflowClient\n",
                "\n",
                "client = MlflowClient()\n",
                "\n",
                "stage = 'Staging'\n",
                "\n",
                "client.transition_model_version_stage(\n",
                "    name=model_name,\n",
                "    version=model_version,\n",
                "    stage=stage\n",
                ")\n",
                "\n",
                "model = mlflow.pyfunc.load_model(\n",
                "    model_uri=f\"models:/{model_name}/{stage}\"\n",
                ")\n",
                "\n",
                "result = model.predict(iris_test)\n",
                "\n",
                "print(result)"
            ]
        },
        {
            "cell_type": "code",
            "execution_count": 9,
            "metadata": {},
            "outputs": [
                {
                    "name": "stdout",
                    "output_type": "stream",
                    "text": [
                        "{   'aliases': {},\n",
                        "    'creation_timestamp': 1739708934471,\n",
                        "    'description': '',\n",
                        "    'last_updated_timestamp': 1739708942072,\n",
                        "    'latest_versions': [   <ModelVersion: aliases=[], creation_timestamp=1739708934539, current_stage='Staging', description='', last_updated_timestamp=1739708942072, name='my-registered-model', run_id='82b5ecff69894b6bab9517e2410c42b6', run_link='', source='s3://bucket/1/82b5ecff69894b6bab9517e2410c42b6/artifacts/iris_rf', status='READY', status_message=None, tags={}, user_id='', version='1'>],\n",
                        "    'name': 'my-registered-model',\n",
                        "    'tags': {}}\n"
                    ]
                }
            ],
            "source": [
                "from pprint import pprint\n",
                "\n",
                "for rm in client.search_registered_models():\n",
                "    pprint(dict(rm), indent=4)"
            ]
        },
        {
            "cell_type": "code",
            "execution_count": null,
            "metadata": {},
            "outputs": [],
            "source": [
                "client.delete_registered_model(name=model_name)"
            ]
        },
        {
            "cell_type": "code",
            "execution_count": null,
            "metadata": {},
            "outputs": [],
            "source": [
                "for rm in client.list_registered_models():\n",
                "    pprint(dict(rm), indent=4)"
            ]
        }
    ],
    "metadata": {
        "kernelspec": {
            "display_name": ".venv",
            "language": "python",
            "name": "python3"
        },
        "language_info": {
            "codemirror_mode": {
                "name": "ipython",
                "version": 3
            },
            "file_extension": ".py",
            "mimetype": "text/x-python",
            "name": "python",
            "nbconvert_exporter": "python",
            "pygments_lexer": "ipython3",
            "version": "3.12.7"
        },
        "orig_nbformat": 4
    },
    "nbformat": 4,
    "nbformat_minor": 2
}
