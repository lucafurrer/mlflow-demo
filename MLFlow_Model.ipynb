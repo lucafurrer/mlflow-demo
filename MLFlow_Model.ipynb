{
    "cells": [
        {
            "cell_type": "code",
            "execution_count": 1,
            "metadata": {},
            "outputs": [],
            "source": [
                "import mlflow\n",
                "import pandas as pd\n",
                "from sklearn import datasets\n",
                "from sklearn.ensemble import RandomForestClassifier\n",
                "import mlflow.sklearn\n",
                "from mlflow.models.signature import infer_signature\n",
                "import os"
            ]
        },
        {
            "cell_type": "code",
            "execution_count": 11,
            "metadata": {},
            "outputs": [],
            "source": [
                "mlflow.set_tracking_uri('http://localhost:5000')\n",
                "\n",
                "os.environ['AWS_ACCESS_KEY_ID'] = 'minio_user'\n",
                "os.environ['AWS_SECRET_ACCESS_KEY'] = 'minio_password'\n",
                "os.environ['AWS_DEFAULT_REGION'] = 'us-east-1'\n",
                "endpoint = 'http://localhost:9000'\n",
                "os.environ['MLFLOW_S3_ENDPOINT_URL'] = endpoint"
            ]
        },
        {
            "cell_type": "code",
            "execution_count": 25,
            "metadata": {},
            "outputs": [
                {
                    "name": "stderr",
                    "output_type": "stream",
                    "text": [
                        "Registered model 'my-registered-model' already exists. Creating a new version of this model...\n",
                        "2025/02/23 17:44:48 INFO mlflow.store.model_registry.abstract_store: Waiting up to 300 seconds for model version to finish creation. Model name: my-registered-model, version 5\n"
                    ]
                },
                {
                    "name": "stdout",
                    "output_type": "stream",
                    "text": [
                        "🏃 View run wise-croc-83 at: http://localhost:5000/#/experiments/1/runs/de398ca635cf475ca056e28b1077e7ec\n",
                        "🧪 View experiment at: http://localhost:5000/#/experiments/1\n"
                    ]
                },
                {
                    "name": "stderr",
                    "output_type": "stream",
                    "text": [
                        "Created version '5' of model 'my-registered-model'.\n"
                    ]
                }
            ],
            "source": [
                "model_name = \"my-registered-model\"\n",
                "\n",
                "iris = datasets.load_iris()\n",
                "iris_df = pd.DataFrame(iris.data, columns=iris.feature_names) \n",
                "\n",
                "iris_train = iris_df.iloc[:-1]\n",
                "iris_test = iris_df.iloc[-1:]\n",
                "\n",
                "experiment_id = mlflow.set_experiment('model-demo')\n",
                "with mlflow.start_run():\n",
                "    clf = RandomForestClassifier(max_depth=7, random_state=0)\n",
                "    clf.fit(iris_train, iris.target[:-1])\n",
                "    signature = infer_signature(iris_train, clf.predict(iris_train))\n",
                "    mlflow.sklearn.log_model(clf, \"iris_rf\", signature=signature, registered_model_name=model_name)"
            ]
        },
        {
            "cell_type": "code",
            "execution_count": 26,
            "metadata": {},
            "outputs": [
                {
                    "data": {
                        "text/plain": [
                            "inputs: \n",
                            "  ['sepal length (cm)': double (required), 'sepal width (cm)': double (required), 'petal length (cm)': double (required), 'petal width (cm)': double (required)]\n",
                            "outputs: \n",
                            "  [Tensor('int64', (-1,))]\n",
                            "params: \n",
                            "  None"
                        ]
                    },
                    "execution_count": 26,
                    "metadata": {},
                    "output_type": "execute_result"
                }
            ],
            "source": [
                "signature"
            ]
        },
        {
            "cell_type": "code",
            "execution_count": 28,
            "metadata": {},
            "outputs": [
                {
                    "name": "stderr",
                    "output_type": "stream",
                    "text": [
                        "Downloading artifacts:  20%|██        | 1/5 [00:00<00:00, 13231.24it/s]"
                    ]
                },
                {
                    "name": "stderr",
                    "output_type": "stream",
                    "text": [
                        "Downloading artifacts: 100%|██████████| 5/5 [00:00<00:00, 688.38it/s]  "
                    ]
                },
                {
                    "name": "stdout",
                    "output_type": "stream",
                    "text": [
                        "[2]\n"
                    ]
                },
                {
                    "name": "stderr",
                    "output_type": "stream",
                    "text": [
                        "\n"
                    ]
                }
            ],
            "source": [
                "import mlflow.pyfunc\n",
                "\n",
                "model_version = 1\n",
                "\n",
                "model = mlflow.pyfunc.load_model(\n",
                "    model_uri=f\"models:/{model_name}/{model_version}\"\n",
                ")\n",
                "\n",
                "result = model.predict(iris_test)\n",
                "\n",
                "print(result)"
            ]
        },
        {
            "cell_type": "code",
            "execution_count": 29,
            "metadata": {},
            "outputs": [
                {
                    "name": "stderr",
                    "output_type": "stream",
                    "text": [
                        "Downloading artifacts: 100%|██████████| 5/5 [00:00<00:00, 542.73it/s]  "
                    ]
                },
                {
                    "name": "stdout",
                    "output_type": "stream",
                    "text": [
                        "[2]\n"
                    ]
                },
                {
                    "name": "stderr",
                    "output_type": "stream",
                    "text": [
                        "\n"
                    ]
                }
            ],
            "source": [
                "from mlflow.tracking import MlflowClient\n",
                "\n",
                "client = MlflowClient()\n",
                "\n",
                "stage = 'Staging'\n",
                "\n",
                "\n",
                "client.set_registered_model_alias(name=model_name, alias=stage, version=str(model_version))\n",
                "\n",
                "model = mlflow.pyfunc.load_model(\n",
                "    model_uri=f\"models:/{model_name}@{stage}\"\n",
                ")\n",
                "\n",
                "result = model.predict(iris_test)\n",
                "\n",
                "print(result)"
            ]
        },
        {
            "cell_type": "code",
            "execution_count": 30,
            "metadata": {},
            "outputs": [
                {
                    "name": "stdout",
                    "output_type": "stream",
                    "text": [
                        "{   'aliases': {'champ': '2'},\n",
                        "    'creation_timestamp': 1740089133875,\n",
                        "    'description': '',\n",
                        "    'last_updated_timestamp': 1740324494952,\n",
                        "    'latest_versions': [   <ModelVersion: aliases=[], creation_timestamp=1740324494952, current_stage='None', description='', last_updated_timestamp=1740324494952, name='Impersonator', run_id='95da7fabe08c42339044fc3fc74e6cbc', run_link='', source='s3://bucket/3/95da7fabe08c42339044fc3fc74e6cbc/artifacts/langchain_model', status='READY', status_message=None, tags={}, user_id='', version='2'>],\n",
                        "    'name': 'Impersonator',\n",
                        "    'tags': {}}\n",
                        "{   'aliases': {},\n",
                        "    'creation_timestamp': 1740089080295,\n",
                        "    'description': '',\n",
                        "    'last_updated_timestamp': 1740089080329,\n",
                        "    'latest_versions': [   <ModelVersion: aliases=[], creation_timestamp=1740089080329, current_stage='None', description='', last_updated_timestamp=1740089080329, name='Inpersonator', run_id='efb9d799e50945f1982d6ac1e3dc337b', run_link='', source='s3://bucket/3/efb9d799e50945f1982d6ac1e3dc337b/artifacts/langchain_model', status='READY', status_message=None, tags={}, user_id='', version='1'>],\n",
                        "    'name': 'Inpersonator',\n",
                        "    'tags': {}}\n",
                        "{   'aliases': {'champ': '2'},\n",
                        "    'creation_timestamp': 1740085117442,\n",
                        "    'description': '',\n",
                        "    'last_updated_timestamp': 1740085683975,\n",
                        "    'latest_versions': [   <ModelVersion: aliases=[], creation_timestamp=1740085683975, current_stage='None', description='', last_updated_timestamp=1740085683975, name='myllm', run_id='c65e93f3ad1c4e2b9eb69cd2dae0bb6a', run_link='', source='s3://bucket/2/c65e93f3ad1c4e2b9eb69cd2dae0bb6a/artifacts/model', status='READY', status_message=None, tags={'state': 'ready'}, user_id='', version='2'>],\n",
                        "    'name': 'myllm',\n",
                        "    'tags': {}}\n",
                        "{   'aliases': {'Staging': '5'},\n",
                        "    'creation_timestamp': 1739708934471,\n",
                        "    'description': '',\n",
                        "    'last_updated_timestamp': 1740329088139,\n",
                        "    'latest_versions': [   <ModelVersion: aliases=[], creation_timestamp=1739708934539, current_stage='Staging', description='', last_updated_timestamp=1739708942072, name='my-registered-model', run_id='82b5ecff69894b6bab9517e2410c42b6', run_link='', source='s3://bucket/1/82b5ecff69894b6bab9517e2410c42b6/artifacts/iris_rf', status='READY', status_message=None, tags={}, user_id='', version='1'>,\n",
                        "                           <ModelVersion: aliases=[], creation_timestamp=1740329088139, current_stage='None', description='', last_updated_timestamp=1740329088139, name='my-registered-model', run_id='de398ca635cf475ca056e28b1077e7ec', run_link='', source='s3://bucket/1/de398ca635cf475ca056e28b1077e7ec/artifacts/iris_rf', status='READY', status_message=None, tags={}, user_id='', version='5'>],\n",
                        "    'name': 'my-registered-model',\n",
                        "    'tags': {}}\n",
                        "{   'aliases': {'champ': '2'},\n",
                        "    'creation_timestamp': 1740259128664,\n",
                        "    'description': '',\n",
                        "    'last_updated_timestamp': 1740324543644,\n",
                        "    'latest_versions': [   <ModelVersion: aliases=[], creation_timestamp=1740324543644, current_stage='None', description='', last_updated_timestamp=1740324543644, name='translator', run_id='b6c04f06c8ce4aeba5ee80bd31b611d6', run_link='', source='s3://bucket/3/b6c04f06c8ce4aeba5ee80bd31b611d6/artifacts/langchain_model', status='READY', status_message=None, tags={}, user_id='', version='2'>],\n",
                        "    'name': 'translator',\n",
                        "    'tags': {}}\n"
                    ]
                }
            ],
            "source": [
                "from pprint import pprint\n",
                "\n",
                "for rm in client.search_registered_models():\n",
                "    pprint(dict(rm), indent=4)"
            ]
        },
        {
            "cell_type": "code",
            "execution_count": 31,
            "metadata": {},
            "outputs": [],
            "source": [
                "client.delete_registered_model(name=model_name)"
            ]
        },
        {
            "cell_type": "code",
            "execution_count": 32,
            "metadata": {},
            "outputs": [
                {
                    "name": "stdout",
                    "output_type": "stream",
                    "text": [
                        "{   'aliases': {'champ': '2'},\n",
                        "    'creation_timestamp': 1740089133875,\n",
                        "    'description': '',\n",
                        "    'last_updated_timestamp': 1740324494952,\n",
                        "    'latest_versions': [   <ModelVersion: aliases=[], creation_timestamp=1740324494952, current_stage='None', description='', last_updated_timestamp=1740324494952, name='Impersonator', run_id='95da7fabe08c42339044fc3fc74e6cbc', run_link='', source='s3://bucket/3/95da7fabe08c42339044fc3fc74e6cbc/artifacts/langchain_model', status='READY', status_message=None, tags={}, user_id='', version='2'>],\n",
                        "    'name': 'Impersonator',\n",
                        "    'tags': {}}\n",
                        "{   'aliases': {},\n",
                        "    'creation_timestamp': 1740089080295,\n",
                        "    'description': '',\n",
                        "    'last_updated_timestamp': 1740089080329,\n",
                        "    'latest_versions': [   <ModelVersion: aliases=[], creation_timestamp=1740089080329, current_stage='None', description='', last_updated_timestamp=1740089080329, name='Inpersonator', run_id='efb9d799e50945f1982d6ac1e3dc337b', run_link='', source='s3://bucket/3/efb9d799e50945f1982d6ac1e3dc337b/artifacts/langchain_model', status='READY', status_message=None, tags={}, user_id='', version='1'>],\n",
                        "    'name': 'Inpersonator',\n",
                        "    'tags': {}}\n",
                        "{   'aliases': {'champ': '2'},\n",
                        "    'creation_timestamp': 1740085117442,\n",
                        "    'description': '',\n",
                        "    'last_updated_timestamp': 1740085683975,\n",
                        "    'latest_versions': [   <ModelVersion: aliases=[], creation_timestamp=1740085683975, current_stage='None', description='', last_updated_timestamp=1740085683975, name='myllm', run_id='c65e93f3ad1c4e2b9eb69cd2dae0bb6a', run_link='', source='s3://bucket/2/c65e93f3ad1c4e2b9eb69cd2dae0bb6a/artifacts/model', status='READY', status_message=None, tags={'state': 'ready'}, user_id='', version='2'>],\n",
                        "    'name': 'myllm',\n",
                        "    'tags': {}}\n",
                        "{   'aliases': {'champ': '2'},\n",
                        "    'creation_timestamp': 1740259128664,\n",
                        "    'description': '',\n",
                        "    'last_updated_timestamp': 1740324543644,\n",
                        "    'latest_versions': [   <ModelVersion: aliases=[], creation_timestamp=1740324543644, current_stage='None', description='', last_updated_timestamp=1740324543644, name='translator', run_id='b6c04f06c8ce4aeba5ee80bd31b611d6', run_link='', source='s3://bucket/3/b6c04f06c8ce4aeba5ee80bd31b611d6/artifacts/langchain_model', status='READY', status_message=None, tags={}, user_id='', version='2'>],\n",
                        "    'name': 'translator',\n",
                        "    'tags': {}}\n"
                    ]
                }
            ],
            "source": [
                "for rm in client.search_registered_models():\n",
                "    pprint(dict(rm), indent=4)"
            ]
        },
        {
            "cell_type": "code",
            "execution_count": null,
            "metadata": {},
            "outputs": [],
            "source": []
        }
    ],
    "metadata": {
        "kernelspec": {
            "display_name": ".venv",
            "language": "python",
            "name": "python3"
        },
        "language_info": {
            "codemirror_mode": {
                "name": "ipython",
                "version": 3
            },
            "file_extension": ".py",
            "mimetype": "text/x-python",
            "name": "python",
            "nbconvert_exporter": "python",
            "pygments_lexer": "ipython3",
            "version": "3.12.7"
        },
        "orig_nbformat": 4
    },
    "nbformat": 4,
    "nbformat_minor": 2
}
