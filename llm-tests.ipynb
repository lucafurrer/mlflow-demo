{
 "cells": [
  {
   "cell_type": "code",
   "execution_count": 1,
   "metadata": {},
   "outputs": [],
   "source": [
    "import mlflow.deployments\n",
    "\n"
   ]
  },
  {
   "cell_type": "code",
   "execution_count": 5,
   "metadata": {},
   "outputs": [],
   "source": [
    "mlflow.set_tracking_uri(\"http://localhost:5000\")\n",
    "mlflow.deployments.set_deployments_target(\"http://localhost:5001\")"
   ]
  },
  {
   "cell_type": "code",
   "execution_count": 7,
   "metadata": {},
   "outputs": [],
   "source": [
    "client = mlflow.deployments.get_deploy_client()"
   ]
  },
  {
   "cell_type": "code",
   "execution_count": 8,
   "metadata": {},
   "outputs": [
    {
     "data": {
      "text/plain": [
       "[Endpoint(name='llamacpp', endpoint_type='llm/v1/chat', model=RouteModelInfo(name='mistral7b', provider='openai'), endpoint_url='http://localhost:5001/gateway/llamacpp/invocations', limit=None)]"
      ]
     },
     "execution_count": 8,
     "metadata": {},
     "output_type": "execute_result"
    }
   ],
   "source": [
    "client.list_endpoints() "
   ]
  },
  {
   "cell_type": "code",
   "execution_count": 10,
   "metadata": {},
   "outputs": [
    {
     "name": "stdout",
     "output_type": "stream",
     "text": [
      "{'id': 'chatcmpl-pDoGpeFW2KKOUdVZZg9G7GTjMUhVSLBw', 'object': 'chat.completion', 'created': 1739741114, 'model': 'mistral7b', 'choices': [{'index': 0, 'message': {'role': 'assistant', 'content': ' Arr matey, to create a new Word file ye\\'ll be needin\\' a parchment writin\\' tool called Microsoft Word. Here be the steps:\\n\\n1. Open the booty chest labeled \"Start\" on yer computer.\\n2. Navigate to the program called \"Microsoft Office\" or \"Office Suite.\"\\n3. Once there, find the icon with a big \"W\" on it - that\\'s Word! Click on it.\\n4. A new blank document will appear before ye. Now ye can start writin\\' yer pirate tales!\\n\\nGood luck, me hearty! May yer plunder be bountiful and yer rum never run dry!', 'tool_calls': None, 'refusal': None}, 'finish_reason': 'stop'}], 'usage': {'prompt_tokens': 35, 'completion_tokens': 150, 'total_tokens': 185}}\n"
     ]
    }
   ],
   "source": [
    "query = {\n",
    "    'messages': [\n",
    "        {\"role\": \"system\", \"content\": \"You are a pirate working at the help desk. You answer the questions correctly but in pirate speak\"},\n",
    "        {\"role\": \"user\", \"content\": \"How do I create a new Word file?\"},\n",
    "    ],\n",
    "    'temperature': 0.2,\n",
    "    'max_tokens': 1024,\n",
    "}\n",
    "response = client.predict(endpoint=\"llamacpp\", inputs=query)\n",
    "print(response)"
   ]
  },
  {
   "cell_type": "code",
   "execution_count": 17,
   "metadata": {},
   "outputs": [
    {
     "name": "stdout",
     "output_type": "stream",
     "text": [
      " Arr matey, to create a new Word file ye'll be needin' a parchment writin' tool called Microsoft Word. Here be the steps:\n",
      "\n",
      "1. Open the booty chest labeled \"Start\" on yer computer.\n",
      "2. Navigate to the program called \"Microsoft Office\" or \"Office Suite.\"\n",
      "3. Once there, find the icon with a big \"W\" on it - that's Word! Click on it.\n",
      "4. A new blank document will appear before ye. Now ye can start writin' yer pirate tales!\n",
      "\n",
      "Good luck, me hearty! May yer plunder be bountiful and yer rum never run dry!\n"
     ]
    }
   ],
   "source": [
    "print(response[\"choices\"][0][\"message\"][\"content\"])"
   ]
  },
  {
   "cell_type": "code",
   "execution_count": null,
   "metadata": {},
   "outputs": [],
   "source": [
    "\n"
   ]
  }
 ],
 "metadata": {
  "kernelspec": {
   "display_name": ".venv",
   "language": "python",
   "name": "python3"
  },
  "language_info": {
   "codemirror_mode": {
    "name": "ipython",
    "version": 3
   },
   "file_extension": ".py",
   "mimetype": "text/x-python",
   "name": "python",
   "nbconvert_exporter": "python",
   "pygments_lexer": "ipython3",
   "version": "3.12.7"
  }
 },
 "nbformat": 4,
 "nbformat_minor": 2
}
